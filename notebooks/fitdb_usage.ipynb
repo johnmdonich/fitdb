{
 "cells": [
  {
   "cell_type": "code",
   "execution_count": 2,
   "metadata": {},
   "outputs": [],
   "source": [
    "import datetime\n",
    "from pathlib import Path\n",
    "\n",
    "import polars as pl\n",
    "\n",
    "from fitdb.fitsdk.profile import FitDBProfile\n",
    "from fitdb.fitsdk import FitFile\n"
   ]
  },
  {
   "cell_type": "code",
   "execution_count": 3,
   "metadata": {},
   "outputs": [],
   "source": [
    "recharger_path = Path(\"data/recharger.fit\")\n",
    "recharger = FitFile(recharger_path)\n",
    "recharger_df = recharger.measures.df()\n",
    "recharger_df.write_parquet(Path(\"data/recharger.parquet\"))"
   ]
  },
  {
   "cell_type": "code",
   "execution_count": 4,
   "metadata": {},
   "outputs": [
    {
     "data": {
      "text/html": [
       "<div><style>\n",
       ".dataframe > thead > tr > th,\n",
       ".dataframe > tbody > tr > td {\n",
       "  text-align: right;\n",
       "}\n",
       "</style>\n",
       "<small>shape: (20_191, 4)</small><table border=\"1\" class=\"dataframe\"><thead><tr><th>fit_file_hash</th><th>timestamp</th><th>measure_type</th><th>measure_value</th></tr><tr><td>str</td><td>datetime[μs, UTC]</td><td>str</td><td>f64</td></tr></thead><tbody><tr><td>&quot;9d9b7ab3a9a2a0…</td><td>2023-09-04 18:15:11 UTC</td><td>&quot;power&quot;</td><td>81.0</td></tr><tr><td>&quot;9d9b7ab3a9a2a0…</td><td>2023-09-04 18:15:11 UTC</td><td>&quot;heart_rate&quot;</td><td>105.0</td></tr><tr><td>&quot;9d9b7ab3a9a2a0…</td><td>2023-09-04 18:15:11 UTC</td><td>&quot;cadence&quot;</td><td>75.0</td></tr><tr><td>&quot;9d9b7ab3a9a2a0…</td><td>2023-09-04 18:15:11 UTC</td><td>&quot;altitude&quot;</td><td>76.6</td></tr><tr><td>&quot;9d9b7ab3a9a2a0…</td><td>2023-09-04 18:15:11 UTC</td><td>&quot;left_pedal_smo…</td><td>21.5</td></tr><tr><td>&quot;9d9b7ab3a9a2a0…</td><td>2023-09-04 18:15:11 UTC</td><td>&quot;right_pedal_sm…</td><td>20.0</td></tr><tr><td>&quot;9d9b7ab3a9a2a0…</td><td>2023-09-04 18:15:11 UTC</td><td>&quot;left_right_bal…</td><td>46.0</td></tr><tr><td>&quot;9d9b7ab3a9a2a0…</td><td>2023-09-04 18:15:11 UTC</td><td>&quot;left_torque_ef…</td><td>65.0</td></tr><tr><td>&quot;9d9b7ab3a9a2a0…</td><td>2023-09-04 18:15:11 UTC</td><td>&quot;right_torque_e…</td><td>55.5</td></tr><tr><td>&quot;9d9b7ab3a9a2a0…</td><td>2023-09-04 18:15:11 UTC</td><td>&quot;enhanced_altit…</td><td>76.6</td></tr><tr><td>&quot;9d9b7ab3a9a2a0…</td><td>2023-09-04 18:15:12 UTC</td><td>&quot;left_pedal_smo…</td><td>21.5</td></tr><tr><td>&quot;9d9b7ab3a9a2a0…</td><td>2023-09-04 18:15:12 UTC</td><td>&quot;power&quot;</td><td>123.0</td></tr><tr><td>&hellip;</td><td>&hellip;</td><td>&hellip;</td><td>&hellip;</td></tr><tr><td>&quot;9d9b7ab3a9a2a0…</td><td>2023-09-04 18:45:45 UTC</td><td>&quot;enhanced_altit…</td><td>80.0</td></tr><tr><td>&quot;9d9b7ab3a9a2a0…</td><td>2023-09-04 18:45:46 UTC</td><td>&quot;left_pedal_smo…</td><td>18.0</td></tr><tr><td>&quot;9d9b7ab3a9a2a0…</td><td>2023-09-04 18:45:46 UTC</td><td>&quot;power&quot;</td><td>110.0</td></tr><tr><td>&quot;9d9b7ab3a9a2a0…</td><td>2023-09-04 18:45:46 UTC</td><td>&quot;right_pedal_sm…</td><td>21.0</td></tr><tr><td>&quot;9d9b7ab3a9a2a0…</td><td>2023-09-04 18:45:46 UTC</td><td>&quot;temperature&quot;</td><td>22.0</td></tr><tr><td>&quot;9d9b7ab3a9a2a0…</td><td>2023-09-04 18:45:46 UTC</td><td>&quot;cadence&quot;</td><td>80.0</td></tr><tr><td>&quot;9d9b7ab3a9a2a0…</td><td>2023-09-04 18:45:46 UTC</td><td>&quot;heart_rate&quot;</td><td>136.0</td></tr><tr><td>&quot;9d9b7ab3a9a2a0…</td><td>2023-09-04 18:45:46 UTC</td><td>&quot;left_torque_ef…</td><td>68.0</td></tr><tr><td>&quot;9d9b7ab3a9a2a0…</td><td>2023-09-04 18:45:46 UTC</td><td>&quot;right_torque_e…</td><td>69.5</td></tr><tr><td>&quot;9d9b7ab3a9a2a0…</td><td>2023-09-04 18:45:46 UTC</td><td>&quot;altitude&quot;</td><td>80.0</td></tr><tr><td>&quot;9d9b7ab3a9a2a0…</td><td>2023-09-04 18:45:46 UTC</td><td>&quot;left_right_bal…</td><td>55.0</td></tr><tr><td>&quot;9d9b7ab3a9a2a0…</td><td>2023-09-04 18:45:46 UTC</td><td>&quot;enhanced_altit…</td><td>80.0</td></tr></tbody></table></div>"
      ],
      "text/plain": [
       "shape: (20_191, 4)\n",
       "┌────────────────────────────┬─────────────────────────┬───────────────────────────┬───────────────┐\n",
       "│ fit_file_hash              ┆ timestamp               ┆ measure_type              ┆ measure_value │\n",
       "│ ---                        ┆ ---                     ┆ ---                       ┆ ---           │\n",
       "│ str                        ┆ datetime[μs, UTC]       ┆ str                       ┆ f64           │\n",
       "╞════════════════════════════╪═════════════════════════╪═══════════════════════════╪═══════════════╡\n",
       "│ 9d9b7ab3a9a2a0feeef6626db7 ┆ 2023-09-04 18:15:11 UTC ┆ power                     ┆ 81.0          │\n",
       "│ 7c434d                     ┆                         ┆                           ┆               │\n",
       "│ 9d9b7ab3a9a2a0feeef6626db7 ┆ 2023-09-04 18:15:11 UTC ┆ heart_rate                ┆ 105.0         │\n",
       "│ 7c434d                     ┆                         ┆                           ┆               │\n",
       "│ 9d9b7ab3a9a2a0feeef6626db7 ┆ 2023-09-04 18:15:11 UTC ┆ cadence                   ┆ 75.0          │\n",
       "│ 7c434d                     ┆                         ┆                           ┆               │\n",
       "│ 9d9b7ab3a9a2a0feeef6626db7 ┆ 2023-09-04 18:15:11 UTC ┆ altitude                  ┆ 76.6          │\n",
       "│ 7c434d                     ┆                         ┆                           ┆               │\n",
       "│ …                          ┆ …                       ┆ …                         ┆ …             │\n",
       "│ 9d9b7ab3a9a2a0feeef6626db7 ┆ 2023-09-04 18:45:46 UTC ┆ right_torque_effectivenes ┆ 69.5          │\n",
       "│ 7c434d                     ┆                         ┆ s                         ┆               │\n",
       "│ 9d9b7ab3a9a2a0feeef6626db7 ┆ 2023-09-04 18:45:46 UTC ┆ altitude                  ┆ 80.0          │\n",
       "│ 7c434d                     ┆                         ┆                           ┆               │\n",
       "│ 9d9b7ab3a9a2a0feeef6626db7 ┆ 2023-09-04 18:45:46 UTC ┆ left_right_balance        ┆ 55.0          │\n",
       "│ 7c434d                     ┆                         ┆                           ┆               │\n",
       "│ 9d9b7ab3a9a2a0feeef6626db7 ┆ 2023-09-04 18:45:46 UTC ┆ enhanced_altitude         ┆ 80.0          │\n",
       "│ 7c434d                     ┆                         ┆                           ┆               │\n",
       "└────────────────────────────┴─────────────────────────┴───────────────────────────┴───────────────┘"
      ]
     },
     "execution_count": 4,
     "metadata": {},
     "output_type": "execute_result"
    }
   ],
   "source": [
    "recharger_df"
   ]
  },
  {
   "cell_type": "code",
   "execution_count": 5,
   "metadata": {},
   "outputs": [
    {
     "data": {
      "text/plain": [
       "dict_keys(['file_id_mesgs', 'developer_data_id_mesgs', 'field_description_mesgs', 'sport_mesgs', 'device_info_mesgs', 'event_mesgs', 'record_mesgs', 'lap_mesgs', 'session_mesgs', 'activity_mesgs'])"
      ]
     },
     "execution_count": 5,
     "metadata": {},
     "output_type": "execute_result"
    }
   ],
   "source": [
    "recharger.messages.keys()"
   ]
  },
  {
   "cell_type": "code",
   "execution_count": 6,
   "metadata": {},
   "outputs": [],
   "source": [
    "eny_path = Path(\"data/eny.fit\")\n",
    "eny = FitFile(recharger_path)\n",
    "eny_df = eny.measures.df()\n",
    "eny_df.write_parquet(Path(\"data/eny.parquet\"))"
   ]
  },
  {
   "cell_type": "code",
   "execution_count": 8,
   "metadata": {},
   "outputs": [],
   "source": [
    "profile = FitDBProfile()\n",
    "messages_df = profile.messages.df()\n",
    "message_fields_df = profile.message_fields.df()\n",
    "message_subfields_df = profile.message_subfields.df()\n",
    "fit_type_props_df = profile.fit_type_properties.df()\n"
   ]
  },
  {
   "cell_type": "code",
   "execution_count": 9,
   "metadata": {},
   "outputs": [
    {
     "data": {
      "text/html": [
       "<div><style>\n",
       ".dataframe > thead > tr > th,\n",
       ".dataframe > tbody > tr > td {\n",
       "  text-align: right;\n",
       "}\n",
       "</style>\n",
       "<small>shape: (19, 12)</small><table border=\"1\" class=\"dataframe\"><thead><tr><th>num</th><th>name</th><th>type</th><th>is_array</th><th>scale</th><th>offset</th><th>units</th><th>bits</th><th>components</th><th>is_accumulated</th><th>has_components</th><th>message_num</th></tr><tr><td>i64</td><td>str</td><td>str</td><td>bool</td><td>list[i64]</td><td>list[i64]</td><td>list[str]</td><td>list[i64]</td><td>list[i64]</td><td>bool</td><td>bool</td><td>i64</td></tr></thead><tbody><tr><td>253</td><td>&quot;timestamp&quot;</td><td>&quot;date_time&quot;</td><td>false</td><td>[1]</td><td>[0]</td><td>[&quot;s&quot;]</td><td>null</td><td>null</td><td>false</td><td>false</td><td>23</td></tr><tr><td>0</td><td>&quot;device_index&quot;</td><td>&quot;device_index&quot;</td><td>false</td><td>[1]</td><td>[0]</td><td>null</td><td>null</td><td>null</td><td>false</td><td>false</td><td>23</td></tr><tr><td>1</td><td>&quot;device_type&quot;</td><td>&quot;uint8&quot;</td><td>false</td><td>[1]</td><td>[0]</td><td>null</td><td>null</td><td>null</td><td>false</td><td>false</td><td>23</td></tr><tr><td>2</td><td>&quot;manufacturer&quot;</td><td>&quot;manufacturer&quot;</td><td>false</td><td>[1]</td><td>[0]</td><td>null</td><td>null</td><td>null</td><td>false</td><td>false</td><td>23</td></tr><tr><td>3</td><td>&quot;serial_number&quot;</td><td>&quot;uint32z&quot;</td><td>false</td><td>[1]</td><td>[0]</td><td>null</td><td>null</td><td>null</td><td>false</td><td>false</td><td>23</td></tr><tr><td>4</td><td>&quot;product&quot;</td><td>&quot;uint16&quot;</td><td>false</td><td>[1]</td><td>[0]</td><td>null</td><td>null</td><td>null</td><td>false</td><td>false</td><td>23</td></tr><tr><td>5</td><td>&quot;software_versi…</td><td>&quot;uint16&quot;</td><td>false</td><td>[100]</td><td>[0]</td><td>null</td><td>null</td><td>null</td><td>false</td><td>false</td><td>23</td></tr><tr><td>6</td><td>&quot;hardware_versi…</td><td>&quot;uint8&quot;</td><td>false</td><td>[1]</td><td>[0]</td><td>null</td><td>null</td><td>null</td><td>false</td><td>false</td><td>23</td></tr><tr><td>7</td><td>&quot;cum_operating_…</td><td>&quot;uint32&quot;</td><td>false</td><td>[1]</td><td>[0]</td><td>[&quot;s&quot;]</td><td>null</td><td>null</td><td>false</td><td>false</td><td>23</td></tr><tr><td>10</td><td>&quot;battery_voltag…</td><td>&quot;uint16&quot;</td><td>false</td><td>[256]</td><td>[0]</td><td>[&quot;V&quot;]</td><td>null</td><td>null</td><td>false</td><td>false</td><td>23</td></tr><tr><td>11</td><td>&quot;battery_status…</td><td>&quot;battery_status…</td><td>false</td><td>[1]</td><td>[0]</td><td>null</td><td>null</td><td>null</td><td>false</td><td>false</td><td>23</td></tr><tr><td>18</td><td>&quot;sensor_positio…</td><td>&quot;body_location&quot;</td><td>false</td><td>[1]</td><td>[0]</td><td>null</td><td>null</td><td>null</td><td>false</td><td>false</td><td>23</td></tr><tr><td>19</td><td>&quot;descriptor&quot;</td><td>&quot;string&quot;</td><td>true</td><td>[1]</td><td>[0]</td><td>null</td><td>null</td><td>null</td><td>false</td><td>false</td><td>23</td></tr><tr><td>20</td><td>&quot;ant_transmissi…</td><td>&quot;uint8z&quot;</td><td>false</td><td>[1]</td><td>[0]</td><td>null</td><td>null</td><td>null</td><td>false</td><td>false</td><td>23</td></tr><tr><td>21</td><td>&quot;ant_device_num…</td><td>&quot;uint16z&quot;</td><td>false</td><td>[1]</td><td>[0]</td><td>null</td><td>null</td><td>null</td><td>false</td><td>false</td><td>23</td></tr><tr><td>22</td><td>&quot;ant_network&quot;</td><td>&quot;ant_network&quot;</td><td>false</td><td>[1]</td><td>[0]</td><td>null</td><td>null</td><td>null</td><td>false</td><td>false</td><td>23</td></tr><tr><td>25</td><td>&quot;source_type&quot;</td><td>&quot;source_type&quot;</td><td>false</td><td>[1]</td><td>[0]</td><td>null</td><td>null</td><td>null</td><td>false</td><td>false</td><td>23</td></tr><tr><td>27</td><td>&quot;product_name&quot;</td><td>&quot;string&quot;</td><td>true</td><td>[1]</td><td>[0]</td><td>null</td><td>null</td><td>null</td><td>false</td><td>false</td><td>23</td></tr><tr><td>32</td><td>&quot;battery_level&quot;</td><td>&quot;uint8&quot;</td><td>false</td><td>[1]</td><td>[0]</td><td>[&quot;%&quot;]</td><td>null</td><td>null</td><td>false</td><td>false</td><td>23</td></tr></tbody></table></div>"
      ],
      "text/plain": [
       "shape: (19, 12)\n",
       "┌─────┬────────────┬────────────┬──────────┬───┬────────────┬────────────┬────────────┬────────────┐\n",
       "│ num ┆ name       ┆ type       ┆ is_array ┆ … ┆ components ┆ is_accumul ┆ has_compon ┆ message_nu │\n",
       "│ --- ┆ ---        ┆ ---        ┆ ---      ┆   ┆ ---        ┆ ated       ┆ ents       ┆ m          │\n",
       "│ i64 ┆ str        ┆ str        ┆ bool     ┆   ┆ list[i64]  ┆ ---        ┆ ---        ┆ ---        │\n",
       "│     ┆            ┆            ┆          ┆   ┆            ┆ bool       ┆ bool       ┆ i64        │\n",
       "╞═════╪════════════╪════════════╪══════════╪═══╪════════════╪════════════╪════════════╪════════════╡\n",
       "│ 253 ┆ timestamp  ┆ date_time  ┆ false    ┆ … ┆ null       ┆ false      ┆ false      ┆ 23         │\n",
       "│ 0   ┆ device_ind ┆ device_ind ┆ false    ┆ … ┆ null       ┆ false      ┆ false      ┆ 23         │\n",
       "│     ┆ ex         ┆ ex         ┆          ┆   ┆            ┆            ┆            ┆            │\n",
       "│ 1   ┆ device_typ ┆ uint8      ┆ false    ┆ … ┆ null       ┆ false      ┆ false      ┆ 23         │\n",
       "│     ┆ e          ┆            ┆          ┆   ┆            ┆            ┆            ┆            │\n",
       "│ 2   ┆ manufactur ┆ manufactur ┆ false    ┆ … ┆ null       ┆ false      ┆ false      ┆ 23         │\n",
       "│     ┆ er         ┆ er         ┆          ┆   ┆            ┆            ┆            ┆            │\n",
       "│ …   ┆ …          ┆ …          ┆ …        ┆ … ┆ …          ┆ …          ┆ …          ┆ …          │\n",
       "│ 22  ┆ ant_networ ┆ ant_networ ┆ false    ┆ … ┆ null       ┆ false      ┆ false      ┆ 23         │\n",
       "│     ┆ k          ┆ k          ┆          ┆   ┆            ┆            ┆            ┆            │\n",
       "│ 25  ┆ source_typ ┆ source_typ ┆ false    ┆ … ┆ null       ┆ false      ┆ false      ┆ 23         │\n",
       "│     ┆ e          ┆ e          ┆          ┆   ┆            ┆            ┆            ┆            │\n",
       "│ 27  ┆ product_na ┆ string     ┆ true     ┆ … ┆ null       ┆ false      ┆ false      ┆ 23         │\n",
       "│     ┆ me         ┆            ┆          ┆   ┆            ┆            ┆            ┆            │\n",
       "│ 32  ┆ battery_le ┆ uint8      ┆ false    ┆ … ┆ null       ┆ false      ┆ false      ┆ 23         │\n",
       "│     ┆ vel        ┆            ┆          ┆   ┆            ┆            ┆            ┆            │\n",
       "└─────┴────────────┴────────────┴──────────┴───┴────────────┴────────────┴────────────┴────────────┘"
      ]
     },
     "execution_count": 9,
     "metadata": {},
     "output_type": "execute_result"
    }
   ],
   "source": [
    "message_fields_df.filter(pl.col(\"message_num\") == 23)"
   ]
  },
  {
   "cell_type": "code",
   "execution_count": 81,
   "metadata": {},
   "outputs": [
    {
     "data": {
      "text/html": [
       "<div><style>\n",
       ".dataframe > thead > tr > th,\n",
       ".dataframe > tbody > tr > td {\n",
       "  text-align: right;\n",
       "}\n",
       "</style>\n",
       "<small>shape: (3, 12)</small><table border=\"1\" class=\"dataframe\"><thead><tr><th>num</th><th>name</th><th>type</th><th>is_array</th><th>scale</th><th>offset</th><th>units</th><th>bits</th><th>components</th><th>is_accumulated</th><th>has_components</th><th>message_num</th></tr><tr><td>i64</td><td>str</td><td>str</td><td>bool</td><td>list[i64]</td><td>list[i64]</td><td>list[str]</td><td>list[i64]</td><td>list[i64]</td><td>bool</td><td>bool</td><td>i64</td></tr></thead><tbody><tr><td>120</td><td>&quot;avg_power_posi...</td><td>&quot;uint16&quot;</td><td>true</td><td>[1]</td><td>[0]</td><td>[&quot;watts&quot;]</td><td>null</td><td>null</td><td>false</td><td>false</td><td>18</td></tr><tr><td>120</td><td>&quot;avg_step_lengt...</td><td>&quot;uint16&quot;</td><td>false</td><td>[10]</td><td>[0]</td><td>[&quot;mm&quot;]</td><td>null</td><td>null</td><td>false</td><td>false</td><td>19</td></tr><tr><td>120</td><td>&quot;ebike_assist_l...</td><td>&quot;uint8&quot;</td><td>false</td><td>[1]</td><td>[0]</td><td>[&quot;percent&quot;]</td><td>null</td><td>null</td><td>false</td><td>false</td><td>20</td></tr></tbody></table></div>"
      ],
      "text/plain": [
       "shape: (3, 12)\n",
       "┌─────┬───────────────┬────────┬──────────┬───┬────────────┬────────────┬────────────┬─────────────┐\n",
       "│ num ┆ name          ┆ type   ┆ is_array ┆ … ┆ components ┆ is_accumul ┆ has_compon ┆ message_num │\n",
       "│ --- ┆ ---           ┆ ---    ┆ ---      ┆   ┆ ---        ┆ ated       ┆ ents       ┆ ---         │\n",
       "│ i64 ┆ str           ┆ str    ┆ bool     ┆   ┆ list[i64]  ┆ ---        ┆ ---        ┆ i64         │\n",
       "│     ┆               ┆        ┆          ┆   ┆            ┆ bool       ┆ bool       ┆             │\n",
       "╞═════╪═══════════════╪════════╪══════════╪═══╪════════════╪════════════╪════════════╪═════════════╡\n",
       "│ 120 ┆ avg_power_pos ┆ uint16 ┆ true     ┆ … ┆ null       ┆ false      ┆ false      ┆ 18          │\n",
       "│     ┆ ition         ┆        ┆          ┆   ┆            ┆            ┆            ┆             │\n",
       "│ 120 ┆ avg_step_leng ┆ uint16 ┆ false    ┆ … ┆ null       ┆ false      ┆ false      ┆ 19          │\n",
       "│     ┆ th            ┆        ┆          ┆   ┆            ┆            ┆            ┆             │\n",
       "│ 120 ┆ ebike_assist_ ┆ uint8  ┆ false    ┆ … ┆ null       ┆ false      ┆ false      ┆ 20          │\n",
       "│     ┆ level_percent ┆        ┆          ┆   ┆            ┆            ┆            ┆             │\n",
       "└─────┴───────────────┴────────┴──────────┴───┴────────────┴────────────┴────────────┴─────────────┘"
      ]
     },
     "execution_count": 81,
     "metadata": {},
     "output_type": "execute_result"
    }
   ],
   "source": [
    "message_fields_df.filter(pl.col(\"num\") == 120)"
   ]
  },
  {
   "cell_type": "code",
   "execution_count": 86,
   "metadata": {},
   "outputs": [
    {
     "data": {
      "text/plain": [
       "str"
      ]
     },
     "execution_count": 86,
     "metadata": {},
     "output_type": "execute_result"
    }
   ],
   "source": [
    "from hashlib import blake2s\n",
    "\n",
    "def file_hash(file_id_mesg: str):\n",
    "    hasher = blake2s(digest_size=16)\n",
    "    hasher.update(file_id_mesg)\n",
    "    return hasher.hexdigest()\n",
    "\n",
    "# file_hash((2,3))\n",
    "type(file_hash(b'{half_monty_karoo.messages[\"file_id_mesgs\"][0]}'))"
   ]
  },
  {
   "cell_type": "code",
   "execution_count": null,
   "metadata": {},
   "outputs": [],
   "source": []
  }
 ],
 "metadata": {
  "kernelspec": {
   "display_name": "fitdb",
   "language": "python",
   "name": "python3"
  },
  "language_info": {
   "codemirror_mode": {
    "name": "ipython",
    "version": 3
   },
   "file_extension": ".py",
   "mimetype": "text/x-python",
   "name": "python",
   "nbconvert_exporter": "python",
   "pygments_lexer": "ipython3",
   "version": "3.10.12"
  },
  "orig_nbformat": 4,
  "vscode": {
   "interpreter": {
    "hash": "c742c44fe583f8a9c65b637131200f541a3ede1cdd2c08e2647b16452fb90c77"
   }
  }
 },
 "nbformat": 4,
 "nbformat_minor": 2
}
