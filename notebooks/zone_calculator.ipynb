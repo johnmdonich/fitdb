{
 "cells": [
  {
   "cell_type": "code",
   "execution_count": 1,
   "metadata": {},
   "outputs": [],
   "source": [
    "import numpy as np\n",
    "import polars as pl"
   ]
  },
  {
   "cell_type": "code",
   "execution_count": 44,
   "metadata": {},
   "outputs": [],
   "source": []
  },
  {
   "cell_type": "code",
   "execution_count": 3,
   "metadata": {},
   "outputs": [
    {
     "data": {
      "text/html": [
       "<div><style>\n",
       ".dataframe > thead > tr > th,\n",
       ".dataframe > tbody > tr > td {\n",
       "  text-align: right;\n",
       "}\n",
       "</style>\n",
       "<small>shape: (7, 9)</small><table border=\"1\" class=\"dataframe\"><thead><tr><th>zone_name</th><th>th_lower_bound_pct</th><th>th_upper_bound_pct</th><th>lt_lower_bound_pct</th><th>lt_upper_bound_pct</th><th>th_lower_bound</th><th>th_upper_bound</th><th>lt_lower_bound</th><th>lt_upper_bound</th></tr><tr><td>str</td><td>f64</td><td>f64</td><td>f64</td><td>f64</td><td>i16</td><td>i16</td><td>i16</td><td>i16</td></tr></thead><tbody><tr><td>&quot;Active Recover…</td><td>0.0</td><td>0.55</td><td>0.0</td><td>0.7</td><td>0</td><td>148</td><td>0</td><td>127</td></tr><tr><td>&quot;Endurance&quot;</td><td>0.55</td><td>0.75</td><td>0.7</td><td>0.87</td><td>149</td><td>202</td><td>128</td><td>158</td></tr><tr><td>&quot;Tempo&quot;</td><td>0.75</td><td>0.9</td><td>0.87</td><td>0.95</td><td>203</td><td>242</td><td>159</td><td>172</td></tr><tr><td>&quot;Sub Lactate&quot;</td><td>0.9</td><td>1.0</td><td>0.95</td><td>1.0</td><td>243</td><td>270</td><td>173</td><td>182</td></tr><tr><td>&quot;Supra Lactate&quot;</td><td>1.0</td><td>1.1</td><td>1.0</td><td>1.05</td><td>271</td><td>297</td><td>183</td><td>191</td></tr><tr><td>&quot;VO2 Max&quot;</td><td>1.1</td><td>1.35</td><td>1.05</td><td>null</td><td>298</td><td>364</td><td>192</td><td>null</td></tr><tr><td>&quot;Anerobic Capac…</td><td>1.35</td><td>null</td><td>null</td><td>null</td><td>365</td><td>null</td><td>null</td><td>null</td></tr></tbody></table></div>"
      ],
      "text/plain": [
       "shape: (7, 9)\n",
       "┌─────────┬────────────┬────────────┬────────────┬───┬────────────┬────────────┬────────────┬────────────┐\n",
       "│ zone_na ┆ th_lower_b ┆ th_upper_b ┆ lt_lower_b ┆ … ┆ th_lower_b ┆ th_upper_b ┆ lt_lower_b ┆ lt_upper_b │\n",
       "│ me      ┆ ound_pct   ┆ ound_pct   ┆ ound_pct   ┆   ┆ ound       ┆ ound       ┆ ound       ┆ ound       │\n",
       "│ ---     ┆ ---        ┆ ---        ┆ ---        ┆   ┆ ---        ┆ ---        ┆ ---        ┆ ---        │\n",
       "│ str     ┆ f64        ┆ f64        ┆ f64        ┆   ┆ i16        ┆ i16        ┆ i16        ┆ i16        │\n",
       "╞═════════╪════════════╪════════════╪════════════╪═══╪════════════╪════════════╪════════════╪════════════╡\n",
       "│ Active  ┆ 0.0        ┆ 0.55       ┆ 0.0        ┆ … ┆ 0          ┆ 148        ┆ 0          ┆ 127        │\n",
       "│ Recover ┆            ┆            ┆            ┆   ┆            ┆            ┆            ┆            │\n",
       "│ y       ┆            ┆            ┆            ┆   ┆            ┆            ┆            ┆            │\n",
       "│ Enduran ┆ 0.55       ┆ 0.75       ┆ 0.7        ┆ … ┆ 149        ┆ 202        ┆ 128        ┆ 158        │\n",
       "│ ce      ┆            ┆            ┆            ┆   ┆            ┆            ┆            ┆            │\n",
       "│ Tempo   ┆ 0.75       ┆ 0.9        ┆ 0.87       ┆ … ┆ 203        ┆ 242        ┆ 159        ┆ 172        │\n",
       "│ Sub     ┆ 0.9        ┆ 1.0        ┆ 0.95       ┆ … ┆ 243        ┆ 270        ┆ 173        ┆ 182        │\n",
       "│ Lactate ┆            ┆            ┆            ┆   ┆            ┆            ┆            ┆            │\n",
       "│ Supra   ┆ 1.0        ┆ 1.1        ┆ 1.0        ┆ … ┆ 271        ┆ 297        ┆ 183        ┆ 191        │\n",
       "│ Lactate ┆            ┆            ┆            ┆   ┆            ┆            ┆            ┆            │\n",
       "│ VO2 Max ┆ 1.1        ┆ 1.35       ┆ 1.05       ┆ … ┆ 298        ┆ 364        ┆ 192        ┆ null       │\n",
       "│ Anerobi ┆ 1.35       ┆ null       ┆ null       ┆ … ┆ 365        ┆ null       ┆ null       ┆ null       │\n",
       "│ c Capac ┆            ┆            ┆            ┆   ┆            ┆            ┆            ┆            │\n",
       "│ ity/NM  ┆            ┆            ┆            ┆   ┆            ┆            ┆            ┆            │\n",
       "└─────────┴────────────┴────────────┴────────────┴───┴────────────┴────────────┴────────────┴────────────┘"
      ]
     },
     "execution_count": 3,
     "metadata": {},
     "output_type": "execute_result"
    }
   ],
   "source": [
    "threshold = 271\n",
    "lt = 183\n",
    "\n",
    "lower_pwr_bound = [0.0, 0.55, 0.75, 0.90, 1.00, 1.10, 1.35]\n",
    "lower_lt_bound = [0.0, 0.7, 0.87, 0.95, 1.0, 1.05, None]\n",
    "\n",
    "def shift_left(array: list) -> list:\n",
    "    size = len(array)\n",
    "    return [a for a in array[1:]] + [None]\n",
    "\n",
    "\n",
    "def concrete_bound(pct_col_name: str, metric: int, upper: bool = False) -> pl.Expr:\n",
    "    base_col = (\n",
    "        (pl.col(pct_col_name) * pl.lit(metric))\n",
    "        .cast(pl.Int16)\n",
    "        .alias(pct_col_name.rstrip(\"_pct\"))\n",
    "    )\n",
    "    return base_col - pl.lit(1) if upper else base_col\n",
    "\n",
    "\n",
    "systm_zones_df = pl.DataFrame(\n",
    "    {\n",
    "        \"zone_name\": [\n",
    "            \"Active Recovery\",\n",
    "            \"Endurance\",\n",
    "            \"Tempo\",\n",
    "            \"Sub Lactate\",\n",
    "            \"Supra Lactate\",\n",
    "            \"VO2 Max\",\n",
    "            \"Anerobic Capacity/NM\",\n",
    "        ],\n",
    "        \"th_lower_bound_pct\": lower_pwr_bound,\n",
    "        \"th_upper_bound_pct\": shift_left(lower_pwr_bound),\n",
    "        \"lt_lower_bound_pct\": lower_lt_bound,\n",
    "        \"lt_upper_bound_pct\": shift_left(lower_lt_bound),\n",
    "    }\n",
    ").select(\n",
    "    \"*\",\n",
    "    concrete_bound(\"th_lower_bound_pct\", threshold),\n",
    "    concrete_bound(\"th_upper_bound_pct\", threshold, upper=True),\n",
    "    concrete_bound(\"lt_lower_bound_pct\", lt),\n",
    "    concrete_bound(\"lt_upper_bound_pct\", lt, upper=True),\n",
    ")\n",
    "\n",
    "systm_zones_df\n"
   ]
  },
  {
   "cell_type": "code",
   "execution_count": null,
   "metadata": {},
   "outputs": [],
   "source": []
  }
 ],
 "metadata": {
  "kernelspec": {
   "display_name": "fitdb",
   "language": "python",
   "name": "python3"
  },
  "language_info": {
   "codemirror_mode": {
    "name": "ipython",
    "version": 3
   },
   "file_extension": ".py",
   "mimetype": "text/x-python",
   "name": "python",
   "nbconvert_exporter": "python",
   "pygments_lexer": "ipython3",
   "version": "3.10.10"
  },
  "orig_nbformat": 4
 },
 "nbformat": 4,
 "nbformat_minor": 2
}
